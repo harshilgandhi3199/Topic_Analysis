{
  "nbformat": 4,
  "nbformat_minor": 0,
  "metadata": {
    "colab": {
      "name": "TopicAnalysis.ipynb",
      "provenance": [],
      "authorship_tag": "ABX9TyNMcyOnRIeSZOf3ULpTsRpc",
      "include_colab_link": true
    },
    "kernelspec": {
      "name": "python3",
      "display_name": "Python 3"
    }
  },
  "cells": [
    {
      "cell_type": "markdown",
      "metadata": {
        "id": "view-in-github",
        "colab_type": "text"
      },
      "source": [
        "<a href=\"https://colab.research.google.com/github/harshilgandhi3199/Topic_Analysis/blob/master/TopicAnalysis.ipynb\" target=\"_parent\"><img src=\"https://colab.research.google.com/assets/colab-badge.svg\" alt=\"Open In Colab\"/></a>"
      ]
    },
    {
      "cell_type": "markdown",
      "metadata": {
        "id": "0wNlQU43Zni6"
      },
      "source": [
        "Importing important libraries"
      ]
    },
    {
      "cell_type": "code",
      "metadata": {
        "id": "hah0lkSVZV98",
        "outputId": "3252a928-9e53-4a4a-aaac-705c45d74c98",
        "colab": {
          "base_uri": "https://localhost:8080/",
          "height": 53
        }
      },
      "source": [
        "import logging\n",
        "import pandas as pd\n",
        "import numpy as np\n",
        "from numpy import random\n",
        "import nltk\n",
        "from sklearn.model_selection import train_test_split\n",
        "from sklearn.feature_extraction.text import CountVectorizer, TfidfVectorizer\n",
        "from sklearn.metrics import accuracy_score, confusion_matrix\n",
        "import matplotlib.pyplot as plt\n",
        "from mlxtend.plotting import plot_decision_regions\n",
        "nltk.download('stopwords')\n",
        "import re\n",
        "from bs4 import BeautifulSoup"
      ],
      "execution_count": 5,
      "outputs": [
        {
          "output_type": "stream",
          "text": [
            "[nltk_data] Downloading package stopwords to /root/nltk_data...\n",
            "[nltk_data]   Unzipping corpora/stopwords.zip.\n"
          ],
          "name": "stdout"
        }
      ]
    },
    {
      "cell_type": "markdown",
      "metadata": {
        "id": "zfS4ZSEGZzHz"
      },
      "source": [
        "Importing Dataset - stack_overflow_data"
      ]
    },
    {
      "cell_type": "code",
      "metadata": {
        "id": "0qsKIPnrZ8nv"
      },
      "source": [
        "dataset=pd.read_csv('/content/stack_overflow_data.csv')\n",
        "dataset = dataset[pd.notnull(dataset['tags'])]\n",
        "X_data=dataset.iloc[:,0]\n",
        "y_data=dataset.iloc[:,1]"
      ],
      "execution_count": 3,
      "outputs": []
    },
    {
      "cell_type": "markdown",
      "metadata": {
        "id": "SUHELq1KZ-5K"
      },
      "source": [
        "Preprocessing the data"
      ]
    },
    {
      "cell_type": "code",
      "metadata": {
        "id": "V3NEoWQPaING"
      },
      "source": [
        "to_be_replaced=re.compile('[/(){}\\[\\]\\|@,;]')\n",
        "bad_words=re.compile('[^0-9a-z #+_]')\n",
        "STOPWORDS=set(stopwords.words('english'))\n",
        "\n",
        "def process_text(text):\n",
        "    text=BeautifulSoup(text, 'lxml').text #HTML decoding\n",
        "    text=text.lower()\n",
        "    text=to_be_replaced.sub(\" \",text)\n",
        "    text=bad_words.sub(\"\",text)\n",
        "    text=' '.join(word for word in text.split() if word not in STOPWORDS)\n",
        "    return text\n",
        "\n",
        "dataset['post']=dataset['post'].apply(process_text)\n",
        "#print_plot(10)\n",
        "\n",
        "X=dataset.post\n",
        "y=dataset.tags"
      ],
      "execution_count": 6,
      "outputs": []
    },
    {
      "cell_type": "markdown",
      "metadata": {
        "id": "wWUhDfGjaJfj"
      },
      "source": [
        "1. Splitting the data into train-test set\n",
        "2. Applying pipeline -CountVectorizer -> TfidfTransformer -> RandomForestClassifier"
      ]
    },
    {
      "cell_type": "code",
      "metadata": {
        "id": "MFBI0ZDAabxD",
        "outputId": "2aabca48-ac1f-4de0-cd1a-bef849219c5a",
        "colab": {
          "base_uri": "https://localhost:8080/",
          "height": 71
        }
      },
      "source": [
        "X_train, X_test, y_train, y_test=train_test_split(X, y, test_size=0.6, random_state=2)\n",
        "\n",
        "from sklearn.ensemble import RandomForestClassifier\n",
        "from sklearn.pipeline import Pipeline\n",
        "from sklearn.feature_extraction.text import TfidfTransformer\n",
        "\n",
        "clf = Pipeline([('vect', CountVectorizer()),\n",
        "               ('tfidf', TfidfTransformer()),\n",
        "               ('clf',RandomForestClassifier(n_estimators=100, criterion=\"entropy\", random_state=0)),\n",
        "              ])\n",
        "clf.fit(X_train, y_train)\n",
        "\n",
        "\"\"\"#naive bayes classifier\n",
        "from sklearn.regre import MultinomialNB\n",
        "classifier=MultinomialNB()\n",
        "classifier.fit(X_train, y_train)\n",
        "\n",
        "#logistic regression\n",
        "from sklearn.linear_model import LogisticRegression\n",
        "classifier=LogisticRegression(random_state=0)\n",
        "classifier.fit(X_train, y_train)\"\"\""
      ],
      "execution_count": 13,
      "outputs": [
        {
          "output_type": "execute_result",
          "data": {
            "application/vnd.google.colaboratory.intrinsic+json": {
              "type": "string"
            },
            "text/plain": [
              "'#naive bayes classifier\\nfrom sklearn.regre import MultinomialNB\\nclassifier=MultinomialNB()\\nclassifier.fit(X_train, y_train)\\n\\n#logistic regression\\nfrom sklearn.linear_model import LogisticRegression\\nclassifier=LogisticRegression(random_state=0)\\nclassifier.fit(X_train, y_train)'"
            ]
          },
          "metadata": {
            "tags": []
          },
          "execution_count": 13
        }
      ]
    },
    {
      "cell_type": "markdown",
      "metadata": {
        "id": "IHftZxfSankO"
      },
      "source": [
        "Predicting test set results"
      ]
    },
    {
      "cell_type": "code",
      "metadata": {
        "id": "cG2LXnR5aqMi"
      },
      "source": [
        "from sklearn.metrics import classification_report\n",
        "y_pred = clf.predict(X_test)"
      ],
      "execution_count": 15,
      "outputs": []
    },
    {
      "cell_type": "markdown",
      "metadata": {
        "id": "fmcdHMu3ar5k"
      },
      "source": [
        "Analyzing model performance"
      ]
    },
    {
      "cell_type": "code",
      "metadata": {
        "id": "CcTlt0K-aud9",
        "outputId": "efef958c-970f-48c7-ae44-c8fb60246782",
        "colab": {
          "base_uri": "https://localhost:8080/",
          "height": 517
        }
      },
      "source": [
        "print('accuracy %s' % accuracy_score(y_pred, y_test))\n",
        "print(classification_report(y_test, y_pred))"
      ],
      "execution_count": 19,
      "outputs": [
        {
          "output_type": "stream",
          "text": [
            "accuracy 0.7425085779641631\n",
            "               precision    recall  f1-score   support\n",
            "\n",
            "         .net       0.62      0.64      0.63       687\n",
            "      android       0.92      0.79      0.85       656\n",
            "    angularjs       0.96      0.92      0.94       657\n",
            "      asp.net       0.69      0.69      0.69       655\n",
            "            c       0.70      0.87      0.77       633\n",
            "           c#       0.56      0.46      0.50       633\n",
            "          c++       0.78      0.62      0.69       664\n",
            "          css       0.62      0.92      0.74       654\n",
            "         html       0.67      0.57      0.62       605\n",
            "          ios       0.66      0.52      0.58       675\n",
            "       iphone       0.56      0.60      0.58       662\n",
            "         java       0.80      0.76      0.78       672\n",
            "   javascript       0.77      0.78      0.77       637\n",
            "       jquery       0.82      0.85      0.84       652\n",
            "        mysql       0.81      0.78      0.80       694\n",
            "  objective-c       0.62      0.69      0.65       652\n",
            "          php       0.86      0.76      0.81       678\n",
            "       python       0.87      0.90      0.88       660\n",
            "ruby-on-rails       0.97      0.87      0.92       649\n",
            "          sql       0.71      0.88      0.79       640\n",
            "\n",
            "     accuracy                           0.74     13115\n",
            "    macro avg       0.75      0.74      0.74     13115\n",
            " weighted avg       0.75      0.74      0.74     13115\n",
            "\n"
          ],
          "name": "stdout"
        }
      ]
    }
  ]
}
